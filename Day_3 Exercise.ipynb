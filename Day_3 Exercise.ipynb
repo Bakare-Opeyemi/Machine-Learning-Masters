{
 "cells": [
  {
   "cell_type": "markdown",
   "metadata": {},
   "source": [
    "### Q1. Write a Python function to multiply all the numbers in a list: [8, 2, 3, -1, 7]\n",
    "\n"
   ]
  },
  {
   "cell_type": "code",
   "execution_count": 1,
   "metadata": {},
   "outputs": [
    {
     "data": {
      "text/plain": [
       "-336"
      ]
     },
     "execution_count": 1,
     "metadata": {},
     "output_type": "execute_result"
    }
   ],
   "source": [
    "def multiplier(var):\n",
    "    product = 1\n",
    "    for item in var:\n",
    "        product *= item \n",
    "    return product\n",
    "\n",
    "multiplier([8, 2, 3, -1, 7])\n",
    "        "
   ]
  },
  {
   "cell_type": "markdown",
   "metadata": {},
   "source": [
    "### Q2. Write a Python function to collect worker's number of hours worked per week and the wage rate per hour, and then find the total payment for each worker. But, if the hours worked per week is more than 40 hours, then the wroker gets 5% bonus."
   ]
  },
  {
   "cell_type": "code",
   "execution_count": 2,
   "metadata": {},
   "outputs": [
    {
     "name": "stdout",
     "output_type": "stream",
     "text": [
      "Enter the number of hours you work per week: 40\n",
      "Enter your wage per hour: $30\n",
      "Your total payment is: $1200.0\n",
      "\n",
      " \n",
      "Do you wish to perform another wages calculation?\n",
      "Enter 1 to perform another, 0 to quit the program: 0\n",
      "Thanks for using this program\n"
     ]
    }
   ],
   "source": [
    "def wageCalc():\n",
    "    hours = float(input(\"Enter the number of hours you work per week: \"))\n",
    "    rate = float(input(\"Enter your wage per hour: $\"))\n",
    "    if hours > 40:\n",
    "        wages = hours * rate + (0.05 * hours*rate)\n",
    "        print(\"You've earned a 5% bonus!\"+\"\\n\"+\"Your total payment is: $\"+str(wages))\n",
    "    else:\n",
    "        wages = hours * rate\n",
    "        print(\"Your total payment is: $\"+str(wages))\n",
    "    print(\"\\n \\nDo you wish to perform another wages calculation?\")\n",
    "    control = int(input(\"Enter 1 to perform another, 0 to quit the program: \"))\n",
    "    if control == 1:\n",
    "        wageCalc()\n",
    "    else:\n",
    "        print(\"Thanks for using this program\")\n",
    "wageCalc()"
   ]
  },
  {
   "cell_type": "markdown",
   "metadata": {},
   "source": [
    "### Q3. Write a Python program to find the Factorial of a number"
   ]
  },
  {
   "cell_type": "code",
   "execution_count": 3,
   "metadata": {},
   "outputs": [
    {
     "data": {
      "text/plain": [
       "720"
      ]
     },
     "execution_count": 3,
     "metadata": {},
     "output_type": "execute_result"
    }
   ],
   "source": [
    "def findFactorial(num):\n",
    "    factorial = 1\n",
    "    while num != 0:\n",
    "        factorial *= num\n",
    "        num -= 1\n",
    "    return factorial\n",
    "\n",
    "findFactorial(6)"
   ]
  },
  {
   "cell_type": "code",
   "execution_count": null,
   "metadata": {},
   "outputs": [],
   "source": []
  }
 ],
 "metadata": {
  "kernelspec": {
   "display_name": "Python 3",
   "language": "python",
   "name": "python3"
  },
  "language_info": {
   "codemirror_mode": {
    "name": "ipython",
    "version": 3
   },
   "file_extension": ".py",
   "mimetype": "text/x-python",
   "name": "python",
   "nbconvert_exporter": "python",
   "pygments_lexer": "ipython3",
   "version": "3.7.7"
  }
 },
 "nbformat": 4,
 "nbformat_minor": 4
}
