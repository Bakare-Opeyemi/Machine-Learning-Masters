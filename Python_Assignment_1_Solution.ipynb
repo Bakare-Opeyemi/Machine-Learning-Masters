{
 "cells": [
  {
   "cell_type": "markdown",
   "metadata": {},
   "source": [
    "#### Write a program which will find all such numbers which are divisible by 7 but are not a multiple of 5, between 1000 and 2200 (both included). The numbers obtained should be printed in a comma-separated sequence on a single line."
   ]
  },
  {
   "cell_type": "code",
   "execution_count": 1,
   "metadata": {},
   "outputs": [
    {
     "name": "stdout",
     "output_type": "stream",
     "text": [
      "[1001, 1008, 1022, 1029, 1036, 1043, 1057, 1064, 1071, 1078, 1092, 1099, 1106, 1113, 1127, 1134, 1141, 1148, 1162, 1169, 1176, 1183, 1197, 1204, 1211, 1218, 1232, 1239, 1246, 1253, 1267, 1274, 1281, 1288, 1302, 1309, 1316, 1323, 1337, 1344, 1351, 1358, 1372, 1379, 1386, 1393, 1407, 1414, 1421, 1428, 1442, 1449, 1456, 1463, 1477, 1484, 1491, 1498, 1512, 1519, 1526, 1533, 1547, 1554, 1561, 1568, 1582, 1589, 1596, 1603, 1617, 1624, 1631, 1638, 1652, 1659, 1666, 1673, 1687, 1694, 1701, 1708, 1722, 1729, 1736, 1743, 1757, 1764, 1771, 1778, 1792, 1799, 1806, 1813, 1827, 1834, 1841, 1848, 1862, 1869, 1876, 1883, 1897, 1904, 1911, 1918, 1932, 1939, 1946, 1953, 1967, 1974, 1981, 1988, 2002, 2009, 2016, 2023, 2037, 2044, 2051, 2058, 2072, 2079, 2086, 2093, 2107, 2114, 2121, 2128, 2142, 2149, 2156, 2163, 2177, 2184, 2191, 2198]\n"
     ]
    }
   ],
   "source": [
    "numbers =[number for number in range(1000,2201)if number % 7 == 0 and not number % 5 == 0]\n",
    "print(numbers)"
   ]
  },
  {
   "cell_type": "markdown",
   "metadata": {},
   "source": [
    "#### Write a Python program to accept the user's first and last name and then getting them printed in the reverse order with a space between first name and last name."
   ]
  },
  {
   "cell_type": "code",
   "execution_count": 9,
   "metadata": {},
   "outputs": [
    {
     "name": "stdout",
     "output_type": "stream",
     "text": [
      "Enter your first name: Opeyemi\n",
      "Enter your last name: Bakare\n",
      "Your reverse name is: imeyepO erakaB\n"
     ]
    }
   ],
   "source": [
    "def reversePrinter():\n",
    "    firstName = input(\"Enter your first name: \")\n",
    "    lastName = input(\"Enter your last name: \")\n",
    "    print(\"Your reverse name is: \" + firstName[::-1] + \" \" + lastName[::-1])\n",
    "reversePrinter()"
   ]
  },
  {
   "cell_type": "markdown",
   "metadata": {},
   "source": [
    "#### Write a program to take ten numbers from a user and display the minimum, mean, and maximum of the non-even numbers."
   ]
  },
  {
   "cell_type": "code",
   "execution_count": 17,
   "metadata": {},
   "outputs": [
    {
     "name": "stdout",
     "output_type": "stream",
     "text": [
      "Enter a number: 5\n",
      "Enter a number: 10\n",
      "Enter a number: 15\n",
      "Enter a number: 20\n",
      "Enter a number: 25\n",
      "Enter a number: 30\n",
      "Enter a number: 35\n",
      "Enter a number: 40\n",
      "Enter a number: 45\n",
      "Enter a number: 50\n",
      "The minimum odd number is: 5\n",
      "The maximum odd number is: 45\n",
      "The mean of the odd numbers is: 25.0\n"
     ]
    }
   ],
   "source": [
    "def oddAnalyse():\n",
    "    Numbers = [int(input(\"Enter a number: \")) for number in range(10)]\n",
    "    oddNumbers = sorted([num for num in Numbers if num % 2 == 1])\n",
    "    print(\"The minimum odd number is: \" + str(oddNumbers[0]) + \"\\n\"+ \"The maximum odd number is: \" + str(oddNumbers[-1]) + \"\\n\" + \"The mean of the odd numbers is: \" + str(sum(oddNumbers[:])/len(oddNumbers)))\n",
    "oddAnalyse()   "
   ]
  },
  {
   "cell_type": "code",
   "execution_count": null,
   "metadata": {},
   "outputs": [],
   "source": []
  }
 ],
 "metadata": {
  "kernelspec": {
   "display_name": "Python 3",
   "language": "python",
   "name": "python3"
  },
  "language_info": {
   "codemirror_mode": {
    "name": "ipython",
    "version": 3
   },
   "file_extension": ".py",
   "mimetype": "text/x-python",
   "name": "python",
   "nbconvert_exporter": "python",
   "pygments_lexer": "ipython3",
   "version": "3.7.7"
  }
 },
 "nbformat": 4,
 "nbformat_minor": 4
}
